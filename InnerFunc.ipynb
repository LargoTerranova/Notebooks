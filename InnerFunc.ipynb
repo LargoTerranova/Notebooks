{
 "metadata": {
  "language_info": {
   "codemirror_mode": {
    "name": "ipython",
    "version": 3
   },
   "file_extension": ".py",
   "mimetype": "text/x-python",
   "name": "python",
   "nbconvert_exporter": "python",
   "pygments_lexer": "ipython3",
   "version": "3.7.7-final"
  },
  "orig_nbformat": 2,
  "kernelspec": {
   "name": "python377jvsc74a57bd0a38b35b77e6756a055eaa8a5c714418c79b2c1847796cd1ba287d8719b86b0a5",
   "display_name": "Python 3.7.7 64-bit ('nlp': conda)"
  }
 },
 "nbformat": 4,
 "nbformat_minor": 2,
 "cells": [
  {
   "source": [
    "# Inner Functions"
   ],
   "cell_type": "markdown",
   "metadata": {}
  },
  {
   "cell_type": "code",
   "execution_count": null,
   "metadata": {},
   "outputs": [],
   "source": [
    "- Inner functions, also known as nested functions, are functions that you define inside other functions. \n",
    "- In Python, this kind of function has direct access to variables and names defined in the enclosing function.\n",
    "- Inner functions have many uses, most notably as closure factories and decorator functions.\n",
    "- Watch out very well where you put the parenthesis, it changes the outcome considerably"
   ]
  },
  {
   "cell_type": "code",
   "execution_count": 7,
   "metadata": {},
   "outputs": [
    {
     "output_type": "stream",
     "name": "stdout",
     "text": [
      "Hello, World!\n"
     ]
    }
   ],
   "source": [
    "# Example inner function\n",
    "def outer_func():\n",
    "    def inner_func():\n",
    "        print(\"Hello, World!\")\n",
    "    inner_func()\n",
    "\n",
    "outer_func()\n"
   ]
  },
  {
   "cell_type": "code",
   "execution_count": null,
   "metadata": {},
   "outputs": [],
   "source": [
    "- The core feature of inner functions is their ability to access variables and objects from their enclosing function even after this function has returned.\n",
    "- The enclosing function provides a namespace that is accessible to the inner function\n",
    "- Now you can pass a string as an argument to outer_func(), and inner_func() will access that argument through the name who. \n",
    "- This name, however, is defined in the local scope of outer_func(). \n",
    "- The names that you define in the local scope of an outer function are known as nonlocal names. They are nonlocal from the inner_func() point of view."
   ]
  },
  {
   "cell_type": "code",
   "execution_count": 30,
   "metadata": {},
   "outputs": [
    {
     "output_type": "stream",
     "name": "stdout",
     "text": [
      "Hello, World!\n"
     ]
    }
   ],
   "source": [
    "def outer_func(who):\n",
    "    def inner_func():\n",
    "        print(f\"Hello, {who}\")\n",
    "    inner_func()\n",
    "\n",
    "outer_func(\"World!\")"
   ]
  },
  {
   "cell_type": "code",
   "execution_count": 52,
   "metadata": {},
   "outputs": [
    {
     "output_type": "execute_result",
     "data": {
      "text/plain": [
       "24"
      ]
     },
     "metadata": {},
     "execution_count": 52
    }
   ],
   "source": [
    "# In factorial(), you first validate the input data to make sure that your user is providing an integer that is equal to or greater than zero. Then you define a recursive inner function called inner_factorial() that performs the factorial calculation and returns the result.\n",
    "# The main advantage of using this pattern is that, by performing all the argument checking in the outer function, you can safely skip error checking in the inner function and focus on the computation at hand.\n",
    "def factorial(number):\n",
    "    # Validate input\n",
    "    if not isinstance(number, int):\n",
    "        raise TypeError(\"Sorry. 'number' must be an integer.\")\n",
    "    if number < 0:\n",
    "        raise ValueError(\"Sorry. 'number' must be zero or positive.\")\n",
    "    # Calculate the factorial of number\n",
    "    def inner_factorial(number):\n",
    "        if number <= 1:\n",
    "            return 1\n",
    "        return number * inner_factorial(number - 1)\n",
    "    return inner_factorial(number)\n",
    "\n",
    "factorial(4)"
   ]
  },
  {
   "source": [
    "# Use Cases\n",
    "- The use cases of Python inner functions are varied: \n",
    "    - You can use them to provide encapsulation and hide your functions from external access\n",
    "    - You can write helper inner functions\n",
    "    - And you can also create closures and decorators"
   ],
   "cell_type": "markdown",
   "metadata": {}
  },
  {
   "source": [
    "## Use Case Nr.1: Providing Encapsulation\n",
    "- A common use case of inner functions arises when you need to protect, or hide, a given function from everything happening outside of it so that the function is totally hidden from the global scope. This kind of behavior is commonly known as encapsulation.\n"
   ],
   "cell_type": "markdown",
   "metadata": {}
  },
  {
   "cell_type": "code",
   "execution_count": null,
   "metadata": {},
   "outputs": [],
   "source": [
    "# Example Encapsulation\n",
    "def increment(number):\n",
    "    def inner_increment():\n",
    "        return number + 1\n",
    "    return inner_increment()"
   ]
  },
  {
   "source": [
    "## Use Case Nr.2: Building Helper Inner Functions\n",
    "- Sometimes you have a function that performs the same chunk of code in several places within its body.\n",
    "- Although writing your helper functions as inner functions achieves the desired result, you’ll probably be better served by extracting them as top-level functions. In this case, you could use a leading underscore (_) in the name of the function to indicate that it’s private to the current module or class. It can make your code cleaner and more readable."
   ],
   "cell_type": "markdown",
   "metadata": {}
  },
  {
   "cell_type": "code",
   "execution_count": 54,
   "metadata": {},
   "outputs": [],
   "source": [
    "# Example inner helper functions\n",
    "# Task: find the total number of hotspots in New York as well as the company that provides most of them, you create the following script:\n",
    "# hotspots.py\n",
    "\n",
    "import csv\n",
    "from collections import Counter\n",
    "\n",
    "def process_hotspots(file):\n",
    "    def most_common_provider(file_obj):\n",
    "        hotspots = []\n",
    "        with file_obj as csv_file:\n",
    "            content = csv.DictReader(csv_file)\n",
    "\n",
    "            for row in content:\n",
    "                hotspots.append(row[\"Provider\"])\n",
    "\n",
    "        counter = Counter(hotspots)\n",
    "        print(\n",
    "            f\"There are {len(hotspots)} Wi-Fi hotspots in NYC.\\n\"\n",
    "            f\"{counter.most_common(1)[0][0]} has the most with \"\n",
    "            f\"{counter.most_common(1)[0][1]}.\"\n",
    "        )\n",
    "\n",
    "    if isinstance(file, str):\n",
    "        # Got a string-based filepath\n",
    "        file_obj = open(file, \"r\")\n",
    "        most_common_provider(file_obj)\n",
    "    else:\n",
    "        # Got a file object\n",
    "        most_common_provider(file)\n",
    "\n",
    "nyc = \"/Users/largo/Downloads/nyc.csv\"\n",
    "process_hotspots(nyc)"
   ]
  },
  {
   "source": [
    "## Use case Nr.3: Retaining State With Inner Functions: Closures\n",
    "- In Python, functions are first-class citizens. This means that they’re on par with any other object, such as numbers, strings, lists, tuples, modules, and so on\n",
    "- You can dynamically create or destroy them, store them in data structures, pass them as arguments to other functions, use them as return values, and so forth\n",
    "- You can also create higher-order functions in Python. Higher-order functions are functions that operate on other functions by taking them as arguments, returning them, or both\n",
    "- All examples of inner functions that you’ve seen so far have been ordinary functions that just happen to be nested inside other functions. Unless you need to hide your functions from the outside world, there’s no specific reason for them to be nested\n",
    "- Closures are dynamically created functions that are returned by other functions. Their main feature is that they have full access to the variables and names defined in the local namespace where the closure was created, even though the enclosing function has returned and finished executing\n",
    "- In Python, when you return an inner function object, the interpreter packs the function along with its containing environment or closure. The function object keeps a snapshot of all the variables and names defined in its containing scope. To define a closure, you need to take three steps:\n",
    "    1. Create an inner function.\n",
    "    2. Reference variables from the enclosing function. \n",
    "    3. Return the inner function.\n",
    "- With this basic knowledge, you can start creating your closures right away and take advantage of their main feature: retaining state between function calls.\n",
    "\n",
    "- A closure causes the inner function to retain the state of its environment when called.\n",
    "- The closure isn’t the inner function itself but the inner function along with its enclosing environment. \n",
    "- The closure captures the local variables and name in the containing function and keeps them around."
   ],
   "cell_type": "markdown",
   "metadata": {}
  },
  {
   "source": [
    "- Example for a closure function. This means that it creates a new closure each time it’s called and then returns it to the caller\n",
    "- Where does power() get the value of exponent from? This is where the closure comes into play. In this example, power() gets the value of exponent from the outer function, generate_power(). \n",
    "- Here’s what Python does when you call generate_power():\n",
    "    1. Define a new instance of power(), which takes a single argument base.\n",
    "    2. Take a snapshot of the surrounding state of power(), which includes exponent with its current value. \n",
    "    3. Return power() along with its whole surrounding state.\n",
    "- This way, when you call the instance of power() returned by generate_power(), you’ll see that the function remembers the value of exponent:\n",
    "\n",
    "\n",
    "def generate_power(exponent): \n",
    "    def power(base):\n",
    "        return base ** exponent\n",
    "    return power #this line returns power as a function object, without calling it."
   ],
   "cell_type": "code",
   "metadata": {},
   "execution_count": null,
   "outputs": []
  },
  {
   "cell_type": "code",
   "execution_count": 71,
   "metadata": {},
   "outputs": [
    {
     "output_type": "execute_result",
     "data": {
      "text/plain": [
       "16"
      ]
     },
     "metadata": {},
     "execution_count": 71
    }
   ],
   "source": [
    "# generate_power is a closure expression\n",
    "def generate_power(exponent):\n",
    "    def power(base):\n",
    "        return base**exponent\n",
    "    return power\n",
    "\n",
    "# How to use the closure\n",
    "# In these examples, raise_two() remembers that exponent=2\n",
    "# Note that both closures remember their respective exponent between calls\n",
    "raise_two = generate_power(2)\n",
    "raise_two(4)"
   ]
  },
  {
   "cell_type": "code",
   "execution_count": null,
   "metadata": {},
   "outputs": [],
   "source": [
    "# My own example:\n",
    "def outer(name):\n",
    "    def inner(surname):\n",
    "        print(f\"{surname} {name}\")\n",
    "    return inner\n",
    "\n",
    "objekt1 = outer(\"Dodevski\")\n",
    "objekt1(\"Boban\")"
   ]
  },
  {
   "cell_type": "code",
   "execution_count": 79,
   "metadata": {},
   "outputs": [
    {
     "output_type": "execute_result",
     "data": {
      "text/plain": [
       "\"'john' doesn't have access to Admin Page.\""
      ]
     },
     "metadata": {},
     "execution_count": 79
    }
   ],
   "source": [
    "# Another example for closures:\n",
    "# This is a closures that don’t modify their enclosing state (static enclosing state)\n",
    "def has_permission(page):\n",
    "    def permission(username):\n",
    "        if username.lower() == \"admin\":\n",
    "            return f\"'{username}' has access to {page}.\"\n",
    "        else:\n",
    "            return f\"'{username}' doesn't have access to {page}.\"\n",
    "    return permission\n",
    "\n",
    "\n",
    "check_admin_page_permision = has_permission(\"Admin Page\")\n",
    "\n",
    "check_admin_page_permision(\"admin\")\n",
    "\n",
    "check_admin_page_permision(\"john\")"
   ]
  },
  {
   "cell_type": "code",
   "execution_count": 75,
   "metadata": {},
   "outputs": [
    {
     "output_type": "stream",
     "name": "stdout",
     "text": [
      "Boban Dodevski\n"
     ]
    }
   ],
   "source": [
    "def outer(name):\n",
    "    def inner(surname):\n",
    "        print(f\"{surname} {name}\")\n",
    "    return inner\n",
    "\n",
    "objekt1 = outer(\"Dodevski\")\n",
    "objekt1(\"Boban\")"
   ]
  },
  {
   "cell_type": "code",
   "execution_count": 78,
   "metadata": {},
   "outputs": [
    {
     "output_type": "execute_result",
     "data": {
      "text/plain": [
       "200.0"
      ]
     },
     "metadata": {},
     "execution_count": 78
    }
   ],
   "source": [
    "# You can also create closures that modify their enclosing state by using mutable objects, such as dictionaries, sets, or lists.\n",
    "# Suppose you need to calculate the mean of a dataset. The data come in a stream of successive measurements of the parameter under analysis, and you need your function to retain the previous measurements between calls. In this case, you can code a closure factory function like this:\n",
    "def mean():\n",
    "    sample = []\n",
    "    def inner_mean(number):\n",
    "        sample.append(number)\n",
    "        return sum(sample) / len(sample)\n",
    "    return inner_mean\n",
    "\n",
    "# sample_mean is a closure and you assign the function mean to it\n",
    "# The closure assigned to sample_mean retains the state of sample between successive calls. Even though you define sample in mean(), it’s still available in the closure, so you can modify it.\n",
    "sample_mean = mean()\n",
    "# Watch now how with every calling the average is modified to reflect the newest value\n",
    "sample_mean(100)\n",
    "sample_mean(200)\n",
    "sample_mean(300)"
   ]
  },
  {
   "source": [
    "### Modifying the closure state\n",
    "- Normally, closure variables are completely hidden from the outside world. \n",
    "- However, you can provide getter and setter inner functions for them:\n",
    "Super complicated example\n",
    "Not sure how relevant this is!?"
   ],
   "cell_type": "markdown",
   "metadata": {}
  },
  {
   "source": [
    "## Adding Behavior With Inner Functions: Decorators\n",
    "- Python decorators are another popular and convenient use case for inner functions, especially for closures. \n",
    "- Decorators are higher-order functions that take a callable (function, method, class) as an argument and return another callable.\n",
    "- You can use decorator functions to add responsibilities to an existing callable dynamically and extend its behavior transparently without affecting or modifying the original callable.\n",
    "- To create a decorator, you just need to define a callable (a function, method, or class) that accepts a function object as an argument, processes it, and return another function object with added behavior.\n",
    "- Once you have your decorator function in place, you can apply it to any callable. To do so, you need to use the at symbol (@) in front of the decorator name and then place it on its own line immediately before the decorated callable:"
   ],
   "cell_type": "markdown",
   "metadata": {}
  },
  {
   "cell_type": "code",
   "execution_count": null,
   "metadata": {},
   "outputs": [],
   "source": [
    "# Decorator example\n",
    "@decorator\n",
    "def decorated_func(): \n",
    "    # Function body... \n",
    "    pass\n",
    "\n",
    "# This syntax makes decorator() automatically take decorated_func() as an argument and processes it in its body. This operation is a shorthand for the following assignment:\n",
    "decorated_func = decorator(decorated_func)"
   ]
  },
  {
   "cell_type": "code",
   "execution_count": null,
   "metadata": {},
   "outputs": [],
   "source": [
    "# Here’s an example of how to build a decorator function to add new functionality to an existing function:\n",
    "# This seems like a relevant example for CS\n",
    "def add_messages(func):\n",
    "    def _add_messages():\n",
    "        print(\"This is my first decorator\")\n",
    "        func()\n",
    "        print(\"Bye!\")\n",
    "    return _add_messages\n",
    "\n",
    "@add_messages\n",
    "def greet():\n",
    "    print(\"Hello, World!\")\n",
    "\n",
    "greet()"
   ]
  },
  {
   "cell_type": "code",
   "execution_count": 124,
   "metadata": {},
   "outputs": [
    {
     "output_type": "execute_result",
     "data": {
      "text/plain": [
       "49"
      ]
     },
     "metadata": {},
     "execution_count": 124
    }
   ],
   "source": [
    "# Another decorator example\n",
    "# In this case, you use both a closure to remember exponent and a decorator that returns a modified version of the input function, func().\n",
    "def generate_power(exponent):\n",
    "    def power(func):\n",
    "        def inner_power(*args):\n",
    "            base = func(*args)\n",
    "            return base ** exponent\n",
    "        return inner_power\n",
    "    return power\n",
    "\n",
    "@generate_power(2)\n",
    "def raise_two(n):\n",
    "    return n\n",
    "\n",
    "raise_two(7)"
   ]
  },
  {
   "cell_type": "code",
   "execution_count": 181,
   "metadata": {},
   "outputs": [
    {
     "output_type": "execute_result",
     "data": {
      "text/plain": [
       "100"
      ]
     },
     "metadata": {},
     "execution_count": 181
    }
   ],
   "source": [
    "# Example of a nested function\n",
    "def multiplier(n):\n",
    "    def additor():\n",
    "        return 5+5\n",
    "    return additor()*n\n",
    "\n",
    "multiplier(10)"
   ]
  },
  {
   "cell_type": "code",
   "execution_count": 172,
   "metadata": {},
   "outputs": [
    {
     "output_type": "stream",
     "name": "stdout",
     "text": [
      "17\n"
     ]
    }
   ],
   "source": [
    "def make_adder(x):\n",
    "    def add(y):\n",
    "        return x + y\n",
    "    return add\n",
    "\n",
    "plus5 = make_adder(5)\n",
    "print(plus5(12))"
   ]
  },
  {
   "cell_type": "code",
   "execution_count": 26,
   "metadata": {},
   "outputs": [
    {
     "output_type": "stream",
     "name": "stdout",
     "text": [
      "hello, my name is Bobi and I'am years old\nhello, my name is Blerina and I'am years old\nhello, my name is Misina and I'am years old\n"
     ]
    }
   ],
   "source": [
    "# Exercise\n",
    "names = [\"Bobi\", \"Blerina\", \"Misina\"]\n",
    "age = [\"39\", \"31\", \"31\"]\n",
    "\n",
    "def outer_func(names, age):\n",
    "    for i in names:\n",
    "        print(f\"hello, my name is {i} and I'am years old\")\n",
    "\n",
    "outer_func(names, age)"
   ]
  },
  {
   "cell_type": "code",
   "execution_count": 144,
   "metadata": {},
   "outputs": [
    {
     "output_type": "error",
     "ename": "TypeError",
     "evalue": "_add_messages() takes 0 positional arguments but 1 was given",
     "traceback": [
      "\u001b[0;31m---------------------------------------------------------------------------\u001b[0m",
      "\u001b[0;31mTypeError\u001b[0m                                 Traceback (most recent call last)",
      "\u001b[0;32m<ipython-input-144-f382e1196b20>\u001b[0m in \u001b[0;36m<module>\u001b[0;34m\u001b[0m\n\u001b[1;32m      7\u001b[0m     \u001b[0;32mreturn\u001b[0m \u001b[0m_add_messages\u001b[0m\u001b[0;34m\u001b[0m\u001b[0;34m\u001b[0m\u001b[0m\n\u001b[1;32m      8\u001b[0m \u001b[0;34m\u001b[0m\u001b[0m\n\u001b[0;32m----> 9\u001b[0;31m \u001b[0;34m@\u001b[0m\u001b[0madd_messages\u001b[0m\u001b[0;34m(\u001b[0m\u001b[0;36m10\u001b[0m\u001b[0;34m)\u001b[0m\u001b[0;34m\u001b[0m\u001b[0;34m\u001b[0m\u001b[0m\n\u001b[0m\u001b[1;32m     10\u001b[0m \u001b[0;32mdef\u001b[0m \u001b[0mmultiplier\u001b[0m\u001b[0;34m(\u001b[0m\u001b[0mn\u001b[0m\u001b[0;34m)\u001b[0m\u001b[0;34m:\u001b[0m\u001b[0;34m\u001b[0m\u001b[0;34m\u001b[0m\u001b[0m\n\u001b[1;32m     11\u001b[0m     \u001b[0;32mreturn\u001b[0m \u001b[0mn\u001b[0m\u001b[0;34m\u001b[0m\u001b[0;34m\u001b[0m\u001b[0m\n",
      "\u001b[0;31mTypeError\u001b[0m: _add_messages() takes 0 positional arguments but 1 was given"
     ]
    }
   ],
   "source": [
    "# Expercie\n",
    "# Could not get this to work\n",
    "# Result should be 1000\n",
    "def add_messages(func):\n",
    "    def _add_messages():\n",
    "        func()*10\n",
    "    return _add_messages\n",
    "\n",
    "@add_messages(10)\n",
    "def multiplier(n):\n",
    "    return n\n",
    "    \n",
    "multiplier(10)"
   ]
  },
  {
   "cell_type": "code",
   "execution_count": 140,
   "metadata": {},
   "outputs": [],
   "source": []
  },
  {
   "cell_type": "code",
   "execution_count": null,
   "metadata": {},
   "outputs": [],
   "source": []
  },
  {
   "cell_type": "code",
   "execution_count": null,
   "metadata": {},
   "outputs": [],
   "source": []
  }
 ]
}