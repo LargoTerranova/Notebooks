{
 "metadata": {
  "language_info": {
   "codemirror_mode": {
    "name": "ipython",
    "version": 3
   },
   "file_extension": ".py",
   "mimetype": "text/x-python",
   "name": "python",
   "nbconvert_exporter": "python",
   "pygments_lexer": "ipython3",
   "version": "3.9.4"
  },
  "orig_nbformat": 2,
  "kernelspec": {
   "name": "python394jvsc74a57bd0f8bd098fb45a3bbd2cd1cd7c5b8c0d25015d78db0dd1c22a72d4edf2a00daf2c",
   "display_name": "Python 3.9.4 64-bit ('pyspark_env': conda)"
  }
 },
 "nbformat": 4,
 "nbformat_minor": 2,
 "cells": [
  {
   "source": [
    "# Return Statement\n",
    "\n",
    "- The Python return statement is a key component of functions and methods.\n",
    "- You can use the return statement to make your functions send Python objects back to the caller code. - These objects are known as the function’s return value\n",
    "- In general, a procedure is a named code block that performs a set of actions without computing a final value or result.\n",
    "- On the other hand, a function is a named code block that performs some actions with the purpose of computing a final value or result, which is then sent back to the caller code\n",
    "- All Python functions have a return value, either explicit or implicit.\n",
    "- The pass statment is usefull as a placeholder which does not perform any action (null operation)\n",
    "- The parentheses are always required in a function call. If you forget them, then you won’t be calling the function but referencing it as a function object.\n",
    "- You can use any Python object as a return value. Since everything in Python is an object, you can return strings, lists, tuples, dictionaries, functions, classes, instances, user-defined objects, and even modules or packages.\n",
    "- You can omit the return value of a function and use a bare return without a return value. You can also omit the entire return statement. In both cases, the return value will be None.\n",
    "- You can only use expressions in a return statement. Expressions are different from statements like conditionals or loops.\n",
    "- Since return stops a function immediatelly it can be uesed to find dead code"
   ],
   "cell_type": "markdown",
   "metadata": {}
  },
  {
   "source": [
    "## Explicit return statement\n",
    "- An explicit return statement immediately terminates a function execution and sends the return value back to the caller code."
   ],
   "cell_type": "markdown",
   "metadata": {}
  },
  {
   "cell_type": "code",
   "execution_count": 1,
   "metadata": {},
   "outputs": [
    {
     "output_type": "execute_result",
     "data": {
      "text/plain": [
       "42"
      ]
     },
     "metadata": {},
     "execution_count": 1
    }
   ],
   "source": [
    "# Example explicit return stament\n",
    "def return_42():\n",
    "    # The next line is an explicit return statment\n",
    "    return 42\n",
    "\n",
    "return_42()"
   ]
  },
  {
   "cell_type": "code",
   "execution_count": 3,
   "metadata": {},
   "outputs": [
    {
     "output_type": "execute_result",
     "data": {
      "text/plain": [
       "84"
      ]
     },
     "metadata": {},
     "execution_count": 3
    }
   ],
   "source": [
    "# Using explicit return statements like values\n",
    "# You can use the statment from above just like a value\n",
    "return_42() * 2"
   ]
  },
  {
   "cell_type": "code",
   "execution_count": null,
   "metadata": {},
   "outputs": [],
   "source": [
    "# return a list containing only the even numbers from a original list\n",
    "# you can only use expressions in a return statement. Expressions are different from statements like conditionals or loops.\n",
    "def get_even(numbers):\n",
    "    even_nums = [num for num in numbers if not num % 2] \n",
    "    return even_nums\n",
    "\n",
    "get_even([1, 2, 3, 4, 5, 6])"
   ]
  },
  {
   "source": [
    "## Implicit return Statements\n",
    "- A Python function will always have a return value. So, if you don’t explicitly use a return value in a return statement, or if you totally omit the return statement, then Python will implicitly return a default value for you. \n",
    "- That default return value will always be None."
   ],
   "cell_type": "markdown",
   "metadata": {}
  },
  {
   "cell_type": "code",
   "execution_count": 7,
   "metadata": {},
   "outputs": [],
   "source": [
    "# Example: implicit return\n",
    "def add_one(x):\n",
    "    # No return statement at all\n",
    "    result = x + 1\n",
    "\n",
    "value = add_one(5)\n",
    "value\n",
    "\n",
    "print(value)"
   ]
  },
  {
   "source": [
    "## Returning vs. printing\n",
    "- printing a value and returning a value are NOT!!! equivalent operations\n",
    "- An example of a function that returns None is print(). The goal of this function is to print objects - print() doesn’t need an explicit return statement because it doesn’t return anything useful or meaningful\n",
    "- The Python interpreter doesn’t display None. So, to show a return value of None in an interactive session, you need to explicitly use print()."
   ],
   "cell_type": "markdown",
   "metadata": {}
  },
  {
   "cell_type": "code",
   "execution_count": 12,
   "metadata": {},
   "outputs": [
    {
     "output_type": "stream",
     "name": "stdout",
     "text": [
      "Hello, World\n"
     ]
    },
    {
     "output_type": "execute_result",
     "data": {
      "text/plain": [
       "'Hello, World'"
      ]
     },
     "metadata": {},
     "execution_count": 12
    }
   ],
   "source": [
    "# Example for print()\n",
    "def print_greeting(): \n",
    "    print(\"Hello, World\")\n",
    "print_greeting()\n",
    "\n",
    "# Example for return\n",
    "# Notice the quotation marks in the output\n",
    "def return_greeting(): \n",
    "    return \"Hello, World\"\n",
    "return_greeting()\n"
   ]
  },
  {
   "cell_type": "code",
   "execution_count": 14,
   "metadata": {},
   "outputs": [
    {
     "output_type": "stream",
     "name": "stdout",
     "text": [
      "42\n"
     ]
    },
    {
     "output_type": "execute_result",
     "data": {
      "text/plain": [
       "42"
      ]
     },
     "metadata": {},
     "execution_count": 14
    }
   ],
   "source": [
    "# Example for print with integers\n",
    "# From this example you cannot tell that ther is a difference, but there is\n",
    "# With print()\n",
    "def print_42():\n",
    "    print(42)\n",
    "print_42()\n",
    "\n",
    "# With return()\n",
    "def return_42():\n",
    "    return 42\n",
    "return_42()"
   ]
  },
  {
   "cell_type": "code",
   "execution_count": 15,
   "metadata": {},
   "outputs": [
    {
     "output_type": "execute_result",
     "data": {
      "text/plain": [
       "4"
      ]
     },
     "metadata": {},
     "execution_count": 15
    }
   ],
   "source": [
    "# In the interactive window it prints 4\n",
    "# If you run it fom the command line (> python3 add.py) then nothing happens because no print statement\n",
    "# If you want to see the results form the command line then you need to write: print(add(2,2))\n",
    "def add(a, b):\n",
    "    result = a + b\n",
    "    return result\n",
    "add(2, 2)"
   ]
  },
  {
   "source": [
    "## Returning Multiple Values\n",
    "- You can use a return statement to return multiple values from a function. To do that, you just need to supply several return values separated by commas."
   ],
   "cell_type": "markdown",
   "metadata": {}
  },
  {
   "cell_type": "code",
   "execution_count": 25,
   "metadata": {},
   "outputs": [
    {
     "output_type": "stream",
     "name": "stdout",
     "text": [
      "6.5\n7.0\n7\n(6.5, 7.0, 7)\n"
     ]
    }
   ],
   "source": [
    "# Example multiple return\n",
    "import statistics as st\n",
    "\n",
    "def describe(sample):\n",
    "    return st.mean(sample), st.median(sample), st.mode(sample)\n",
    "\n",
    "\n",
    "# you can use iterable unpacking to unpack the three measures into three separated variables\n",
    "sample = [10, 2, 4, 7, 9, 3, 9, 8, 6, 7]\n",
    "mean, median, mode = describe(sample)\n",
    "print(mean)\n",
    "print(median)\n",
    "print(mode)\n",
    "\n",
    "# or you can just store everything in one variable\n",
    "result = describe(sample)\n",
    "print(result)"
   ]
  },
  {
   "source": [
    "## Returning Values vs Modifying Globals\n",
    "- Modifying globals is bad programming practice\n",
    "- Dont do it"
   ],
   "cell_type": "markdown",
   "metadata": {}
  },
  {
   "cell_type": "code",
   "execution_count": null,
   "metadata": {},
   "outputs": [],
   "source": [
    "# Using return With Conditionals\n",
    "- Python functions are not restricted to having a single return statement.\n",
    "- A common way of writing functions with multiple return statements is to use conditional statements that allow you to provide different return statements depending on the result of evaluating some conditions."
   ]
  },
  {
   "cell_type": "code",
   "execution_count": 28,
   "metadata": {},
   "outputs": [
    {
     "output_type": "stream",
     "name": "stdout",
     "text": [
      "15\n15\nNone\n"
     ]
    }
   ],
   "source": [
    "# Example with multiple return statements\n",
    "# my_abs() has two explicit return statements, each of them wrapped in its own if statement. It also has an implicit return statement. If number happens to be 0, then neither condition is true, and the function ends without hitting any explicit return statement. When this happens, you automatically get None\n",
    "# In this case None is wring, since the absolute vlaue for 0 is 0\n",
    "def my_abs(number):\n",
    "    if number > 0:\n",
    "        return number\n",
    "    elif number < 0:\n",
    "        return -number\n",
    "\n",
    "print(my_abs(-15))\n",
    "print(my_abs(15))\n",
    "print(my_abs(0))"
   ]
  },
  {
   "source": [
    "## Returning True or False\n",
    "- Another common use case for the combination of if and return statements is when you’re coding a predicate or Boolean-valued function. This kind of function returns either True or False according to a given condition.\n",
    "- is_divisible() returns True if the remainder of dividing a by b is equal to 0. Otherwise, it returns False. Note that in Python, a 0 value is falsy, so you need to use the not operator to negate the truth value of the condition.\n",
    "- A value that is true in Boolean context is sometimes said to be “truthy,” and one that is false in Boolean context is said to be “falsy.”\n",
    "- Sometimes you’ll write predicate functions that involve operators like the following:\n",
    "    - The comparison operators ==, !=, >, >=, <, and <= \n",
    "    - The membership operator in\n",
    "    - The identity operator is\n",
    "    - The Boolean operator not\n",
    "- Note: Python follows a set of rules to determine the truth value of an object. For example, the following objects are considered falsy:\n",
    "    - Constants like None and False\n",
    "    - Numeric types with a zero value like 0, 0.0, 0j, Decimal(0), and Fraction(0, 1)\n",
    "    - Empty sequences and collections like \"\", (), [], {}, set(), and range(0)\n",
    "    - Objects that implement __bool__() with a return value of False or __len__() with a return value of 0\n",
    "    - Any other object will be considered truthy."
   ],
   "cell_type": "markdown",
   "metadata": {}
  },
  {
   "cell_type": "code",
   "execution_count": 29,
   "metadata": {},
   "outputs": [
    {
     "output_type": "execute_result",
     "data": {
      "text/plain": [
       "False"
      ]
     },
     "metadata": {},
     "execution_count": 29
    }
   ],
   "source": [
    "\n",
    "def is_divisible(a, b):\n",
    "    if not a % b:\n",
    "        return True\n",
    "    return False\n",
    "\n",
    "is_divisible(4, 2)\n",
    "is_divisible(7, 4)"
   ]
  },
  {
   "cell_type": "code",
   "execution_count": 30,
   "metadata": {},
   "outputs": [
    {
     "output_type": "execute_result",
     "data": {
      "text/plain": [
       "1"
      ]
     },
     "metadata": {},
     "execution_count": 30
    }
   ],
   "source": [
    "# In general, and returns the first false operand or the last operand. On the other hand, or returns the first true operand or the last operand.\n",
    "0 and 1\n",
    "1 and 2\n",
    "1 or 2\n",
    "0 or 1\n",
    "\n",
    "# You have to use and/or with if statements for them to work properly\n",
    "# Otherwise they might return nonsense \n",
    "def both_true(a, b):\n",
    "    if a and b:\n",
    "        return True\n",
    "    return False\n",
    "both_true(1, 2)\n",
    "both_true(1, 0)"
   ]
  },
  {
   "source": [
    "## Returning Multiple Named-Objects\n",
    "- When you’re writing a function that returns multiple values in a single return statement, you can consider using a collections.namedtuple object to make your functions more readable. \n",
    "- namedtuple is a collection class that returns a subclass of tuple that has fields or attributes. You can access those attributes using dot notation or an indexing operation.\n",
    "- The initializer of namedtuple takes several arguments. You just need to know about the first two:\n",
    "    1. typename holds the name of the tuple-like class that you’re creating. It needs to be a string.\n",
    "    2. field_names holds the names of the fields or attributes of the tuple-like class. It can be a sequence of strings such as [\"x\",\"y\"] or a single string with each name separated by whitespace or commas, such as \"x y\" or \"x, y\".\n"
   ],
   "cell_type": "markdown",
   "metadata": {}
  },
  {
   "cell_type": "code",
   "execution_count": 52,
   "metadata": {},
   "outputs": [
    {
     "output_type": "execute_result",
     "data": {
      "text/plain": [
       "7"
      ]
     },
     "metadata": {},
     "execution_count": 52
    }
   ],
   "source": [
    "# Example\n",
    "import statistics as st\n",
    "from collections import namedtuple\n",
    "  \n",
    "def describe(sample):\n",
    "    Desc = namedtuple(\"Desc\", [\"mean\", \"median\", \"mode\"])\n",
    "    return Desc(\n",
    "        st.mean(sample), \n",
    "        st.median(sample), \n",
    "        st.mode(sample),\n",
    "        )\n",
    "\n",
    "sample = [10, 2, 4, 7, 9, 3, 9, 8, 6, 7]\n",
    "stat_desc = describe(sample)\n",
    "\n",
    "stat_desc\n",
    "\n",
    "# Get the mean by its attribute name\n",
    "stat_desc.mean\n",
    "\n",
    "# Get the median by its index\n",
    "stat_desc[1]\n",
    "\n",
    "# Unpack the values into three variables\n",
    "mean, median, mode = describe(sample)\n",
    "\n",
    "mean\n",
    "mode"
   ]
  },
  {
   "source": [
    "## Returning Functions: Closures\n",
    "- In Python, functions are first-class objects\n",
    "- A function that takes a function as an argument, returns a function as a result, or both is a higher-order function. \n",
    "- A closure factory function is a common example of a higher-order function in Python. This kind of function takes some arguments and returns an inner function. The inner function is commonly known as a closure.\n",
    "- A closure carries information about its enclosing execution scope. This provides a way to retain state information between function calls. Closure factory functions are useful when you need to write code based on the concept of lazy or delayed evaluation.\n",
    "- A closure \"remembers\" values which were entered in a previous function call"
   ],
   "cell_type": "markdown",
   "metadata": {}
  },
  {
   "cell_type": "code",
   "execution_count": 53,
   "metadata": {},
   "outputs": [
    {
     "output_type": "stream",
     "name": "stdout",
     "text": [
      "6\n8\n"
     ]
    }
   ],
   "source": [
    "# Example closure functions\n",
    "# Inside by_factor(), you define an inner function called multiply() and return it without calling it. The function object you return is a closure that retains information about the state of factor. In other words, it remembers the value of factor between calls. That’s why double remembers that factor was equal to 2 and triple remembers that factor was equal to 3.\n",
    "\n",
    "# You have always to write factor, even if it never changes\n",
    "def by_factor(factor, number): \n",
    "    return factor * number\n",
    "\n",
    "# Using a closure you can \"remebmer\" the factor between calls\n",
    "def by_factor(factor):\n",
    "    def multiply(number):\n",
    "        return factor * number\n",
    "    return multiply\n",
    "\n",
    "double = by_factor(2)\n",
    "print(double(3))\n",
    "print(double(4))\n",
    "3766543376862"
   ]
  },
  {
   "source": [
    "## Taking and Returning Functions: Decorators\n",
    "- overjumped"
   ],
   "cell_type": "markdown",
   "metadata": {}
  },
  {
   "source": [
    "## Using return in Generator Functions\n",
    "- overjumped\n"
   ],
   "cell_type": "markdown",
   "metadata": {}
  },
  {
   "cell_type": "code",
   "execution_count": 72,
   "metadata": {},
   "outputs": [
    {
     "output_type": "execute_result",
     "data": {
      "text/plain": [
       "   PassengerId  Survived  Pclass     Sex   Age  SibSp  Parch  \\\n",
       "0            1         0       3    male  22.0      1      0   \n",
       "1            2         1       1  female  38.0      1      0   \n",
       "2            3         1       3  female  26.0      0      0   \n",
       "3            4         1       1  female  35.0      1      0   \n",
       "4            5         0       3    male  35.0      0      0   \n",
       "\n",
       "             Ticket     Fare Cabin Embarked  \n",
       "0         A/5 21171   7.2500   NaN        S  \n",
       "1          PC 17599  71.2833   C85        C  \n",
       "2  STON/O2. 3101282   7.9250   NaN        S  \n",
       "3            113803  53.1000  C123        S  \n",
       "4            373450   8.0500   NaN        S  "
      ],
      "text/html": "<div>\n<style scoped>\n    .dataframe tbody tr th:only-of-type {\n        vertical-align: middle;\n    }\n\n    .dataframe tbody tr th {\n        vertical-align: top;\n    }\n\n    .dataframe thead th {\n        text-align: right;\n    }\n</style>\n<table border=\"1\" class=\"dataframe\">\n  <thead>\n    <tr style=\"text-align: right;\">\n      <th></th>\n      <th>PassengerId</th>\n      <th>Survived</th>\n      <th>Pclass</th>\n      <th>Sex</th>\n      <th>Age</th>\n      <th>SibSp</th>\n      <th>Parch</th>\n      <th>Ticket</th>\n      <th>Fare</th>\n      <th>Cabin</th>\n      <th>Embarked</th>\n    </tr>\n  </thead>\n  <tbody>\n    <tr>\n      <th>0</th>\n      <td>1</td>\n      <td>0</td>\n      <td>3</td>\n      <td>male</td>\n      <td>22.0</td>\n      <td>1</td>\n      <td>0</td>\n      <td>A/5 21171</td>\n      <td>7.2500</td>\n      <td>NaN</td>\n      <td>S</td>\n    </tr>\n    <tr>\n      <th>1</th>\n      <td>2</td>\n      <td>1</td>\n      <td>1</td>\n      <td>female</td>\n      <td>38.0</td>\n      <td>1</td>\n      <td>0</td>\n      <td>PC 17599</td>\n      <td>71.2833</td>\n      <td>C85</td>\n      <td>C</td>\n    </tr>\n    <tr>\n      <th>2</th>\n      <td>3</td>\n      <td>1</td>\n      <td>3</td>\n      <td>female</td>\n      <td>26.0</td>\n      <td>0</td>\n      <td>0</td>\n      <td>STON/O2. 3101282</td>\n      <td>7.9250</td>\n      <td>NaN</td>\n      <td>S</td>\n    </tr>\n    <tr>\n      <th>3</th>\n      <td>4</td>\n      <td>1</td>\n      <td>1</td>\n      <td>female</td>\n      <td>35.0</td>\n      <td>1</td>\n      <td>0</td>\n      <td>113803</td>\n      <td>53.1000</td>\n      <td>C123</td>\n      <td>S</td>\n    </tr>\n    <tr>\n      <th>4</th>\n      <td>5</td>\n      <td>0</td>\n      <td>3</td>\n      <td>male</td>\n      <td>35.0</td>\n      <td>0</td>\n      <td>0</td>\n      <td>373450</td>\n      <td>8.0500</td>\n      <td>NaN</td>\n      <td>S</td>\n    </tr>\n  </tbody>\n</table>\n</div>"
     },
     "metadata": {},
     "execution_count": 72
    }
   ],
   "source": []
  },
  {
   "cell_type": "code",
   "execution_count": null,
   "metadata": {},
   "outputs": [],
   "source": []
  }
 ]
}