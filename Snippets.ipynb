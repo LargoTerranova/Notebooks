{
 "cells": [
  {
   "cell_type": "code",
   "execution_count": null,
   "metadata": {},
   "outputs": [],
   "source": [
    "# Load Packages"
   ]
  },
  {
   "cell_type": "code",
   "execution_count": null,
   "metadata": {},
   "outputs": [],
   "source": [
    "# Get the records with the latest file date in a file\n",
    "max_date = df.agg({\"file_date\": \"max\"}).collect[0][0]\n",
    "df = df.filter(F.col(\"file_date\") == F.lit(max_date))\n",
    "\n"
   ]
  },
  {
   "cell_type": "code",
   "execution_count": null,
   "metadata": {},
   "outputs": [],
   "source": [
    "# Count the number of alerts with the same ID, i.e. 201 and one single group variable i.e. \"ID\"\n",
    "column_list = [\"ID\"]\n",
    "w = Window.partitionBy([col(x) for x in column_list]).orderBy(\"ID\")\n",
    "df = df.withColumn(\"NR_ALERTS\", F.count(\"ID\").over(w))"
   ]
  },
  {
   "cell_type": "code",
   "execution_count": null,
   "metadata": {},
   "outputs": [],
   "source": [
    "# Turn all column names in to lower/upper\n",
    "df = df.toDF(*[c.lower() for c in df.columns])"
   ]
  }
 ],
 "metadata": {
  "language_info": {
   "name": "python"
  },
  "orig_nbformat": 4
 },
 "nbformat": 4,
 "nbformat_minor": 2
}
