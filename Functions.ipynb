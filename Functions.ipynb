{
 "cells": [
  {
   "cell_type": "markdown",
   "metadata": {},
   "source": [
    "# Questions\n",
    "- Why is the stuff in the body in single quotes ''?\n",
    "- Why is the stuff in curly brackets?\n",
    "- Why the :.2f\n",
    "def f(qty, item, price):\n",
    "    print(f'{qty} {item} cost ${price:.2f}')"
   ]
  },
  {
   "cell_type": "markdown",
   "metadata": {},
   "source": [
    "##############################################################################\n",
    "# Functions\n",
    "##############################################################################\n",
    "- https://realpython.com/defining-your-own-python-function/\n",
    "\n",
    "# General\n",
    "- A function is a relationship or mapping between one or more inputs and a set of outputs.\n",
    "- function is a self-contained block of code that encapsulates a specific task or related group of tasks.\n",
    "- All you need to know about is the function’s interface:\n",
    "    1. What arguments (if any) it takes \n",
    "    2. What values (if any) it returns\n",
    "- When the function is finished, execution returns to the location where the function was called\n",
    "- A namespace is a region of a program in which identifiers have meaning.\n",
    "- When a Python function is called, a new namespace is created for that function\n",
    "- In a Function, you can use variable names and identifiers without worrying about whether they’re already used elsewhere outside the function. \n",
    "- You can define a function that doesn’t take any arguments, but the parentheses are still required. Both a function definition and a function call must always include parentheses, even if they’re empty\n",
    "- Occasionally, you may want to define an empty function that does nothing. This is referred to as a stub, which is usually a temporary placeholder for a Python function that will be fully implemented at a later time\n",
    "- Function Definition: When you write the function\n",
    "- Function Call: When you call the function and give it values to do its thing\n",
    "- A function will return to the caller when it falls off the end—that is, after the last statement of the function body is executed."
   ]
  },
  {
   "cell_type": "markdown",
   "metadata": {},
   "source": [
    "\n",
    "# Argument Passing\n",
    "- There are 3 types of Argument passing into a function\n",
    "\n",
    "## 1. Positional Argument\n",
    "- The most straightforward way to pass arguments to a Python function is with positional arguments\n",
    "- With positional arguments, the arguments in the call and the parameters in the definition must agree not only in order but in number as well (if you specify three you must also provide three)."
   ]
  },
  {
   "cell_type": "code",
   "execution_count": null,
   "metadata": {},
   "outputs": [],
   "source": [
    "\n",
    "def f(qty, item, price):\n",
    "    print(f'{qty} {item} cost ${price:.2f}')\n",
    "\n",
    "f(6, 'bananas', 1.74)"
   ]
  },
  {
   "cell_type": "markdown",
   "metadata": {},
   "source": [
    "## 2. Keyword Argument\n",
    "- When you’re calling a function, you can specify arguments in the form <keyword>=<value>.\n",
    "- Using keyword arguments lifts the restriction on argument order\n",
    "- Like with positional arguments, though, the number of arguments and parameters must still match:"
   ]
  },
  {
   "cell_type": "code",
   "execution_count": null,
   "metadata": {},
   "outputs": [],
   "source": [
    "f(qty=6, item='bananas', price=1.74) "
   ]
  },
  {
   "cell_type": "markdown",
   "metadata": {},
   "source": [
    "## 3. Default Parameters\n",
    "- If a parameter specified in a Python function definition has the form <name>=<value>, then <value> becomes a default value for that parameter\n",
    "- Default parameters allow some arguments to be omitted when the function is called."
   ]
  },
  {
   "cell_type": "code",
   "execution_count": null,
   "metadata": {},
   "outputs": [],
   "source": [
    "\n",
    "# Here defualt values are already defined and if none are supplied in the function call they will be used\n",
    "def f(qty=6, item='bananas', price=1.74):\n",
    "    print(f'{qty} {item} cost ${price:.2f}')"
   ]
  },
  {
   "cell_type": "code",
   "execution_count": null,
   "metadata": {},
   "outputs": [],
   "source": [
    "# Mutable Default Parameter Values\n",
    "# Dont use mutable objects as default parameter values, every time you call the function without a value, the append  will get longer, it is a well known pitfall and is best avoided\n",
    "def appender(mylist=[]):\n",
    "    mylist.append('###')\n",
    "    return mylist\n",
    "\n",
    "# As a workaround, consider using a default argument value that signals no argument has been specified. Most any value would work, but None is a common choice.\n",
    "#  Note how this ensures that my_list now truly defaults to an empty list whenever f() is called without an argument.\n",
    "def f(my_list=None): \n",
    "    if my_list is None:\n",
    "        my_list = []\n",
    "        my_list.append('###') \n",
    "    return my_list"
   ]
  },
  {
   "cell_type": "code",
   "execution_count": 37,
   "metadata": {},
   "outputs": [],
   "source": [
    "def appendor(mylist=None):\n",
    "    if mylist is None:\n",
    "        mylist = []\n",
    "        mylist.append('###')\n",
    "    return mylist    "
   ]
  },
  {
   "cell_type": "markdown",
   "metadata": {},
   "source": [
    "# Pass-By-Value vs Pass-By-Reference in Python\n",
    "- Argument passing in Python is somewhat of a hybrid between pass-by-value and pass-by-reference. What gets passed to the function is a reference to an object, but the reference is passed by value\n",
    "- Python’s argument-passing mechanism has been called pass-by-assignment. This is because parameter names are bound to objects on function entry in Python, and assignment is also the process of binding a name to an object\n",
    "- The key takeaway here is that a Python function can’t change the value of an argument by reassigning the corresponding parameter to something else\n",
    "- You can see that behaviour in the example below. The iterables are printed unchanged without the \"foo\"\n",
    "- Here, objects of type int, dict, set, str, and list are passed to f() as arguments. f() tries to assign each to the string object 'foo', but as you can see, once back in the calling environment, they are all unchanged. "
   ]
  },
  {
   "cell_type": "code",
   "execution_count": 91,
   "metadata": {},
   "outputs": [
    {
     "name": "stdout",
     "output_type": "stream",
     "text": [
      "40\n",
      "{'foo': 1, 'bar': 2, 'baz': 3}\n",
      "['a', 'b', 'c']\n",
      "bar\n"
     ]
    }
   ],
   "source": [
    "def f(x):\n",
    "    x = 'foo'\n",
    "    \n",
    "# The values in the bracket are called objects and thea are also arguemnts\n",
    "for i in (40, dict(foo=1, bar=2, baz=3), [\"a\", \"b\", \"c\"], \"bar\"):\n",
    "    f(i)\n",
    "    print(i)"
   ]
  },
  {
   "cell_type": "markdown",
   "metadata": {},
   "source": [
    "- However, f() can use the reference to make modifications inside my_list. Here, f() has modified the first element. You can see that once the function returns, my_list has, in fact, been changed in the calling environment.\n"
   ]
  },
  {
   "cell_type": "code",
   "execution_count": 101,
   "metadata": {},
   "outputs": [
    {
     "data": {
      "text/plain": [
       "{'foo': 1, 'bar': 22, 'baz': 3}"
      ]
     },
     "execution_count": 101,
     "metadata": {},
     "output_type": "execute_result"
    }
   ],
   "source": [
    "# Write a function thaat replaces the\n",
    "def f(x):\n",
    "    x['bar'] = 22\n",
    "\n",
    "my_dict = {'foo': 1, 'bar': 2, 'baz': 3, 'bar':22}\n",
    "\n",
    "\n",
    "f(my_dict)\n",
    "my_dict"
   ]
  },
  {
   "cell_type": "markdown",
   "metadata": {},
   "source": [
    "## Argument Passing Summary\n",
    "- Argument passing in Python can be summarized as follows:\n",
    "    - Passing an immutable object, like an int, str, tuple, or frozenset, to a Python function acts like pass-by-value. The function can’t modify the object in the calling environment.\n",
    "    - Passing a mutable object such as a list, dict, or set acts somewhat—but not exactly—like pass-by-reference. The function can’t reassign the object wholesale, but it can change items in place within the object, and these changes will be reflected in the calling environment."
   ]
  },
  {
   "cell_type": "markdown",
   "metadata": {},
   "source": [
    "# Return Statement\n",
    "- What’s a Python function to do then? After all, in many cases, if a function doesn’t cause some change in the calling environment, then there isn’t much point in calling it at all. How should a function affect its caller?\n",
    "- Well, one possibility is to use function return values. A return statement in a Python function serves two purposes:\n",
    "    1. It immediately terminates the function and passes execution control back to the caller. \n",
    "    2. It provides a mechanism by which the function can pass data back to the caller.\n",
    "- return statements don’t need to be at the end of a function. They can appear anywhere in a function body, and even multiple times.\n",
    "- A return stament can be used to:\n",
    "    - exit a function\n",
    "    - return data to the caller"
   ]
  },
  {
   "cell_type": "code",
   "execution_count": 17,
   "metadata": {},
   "outputs": [
    {
     "name": "stdout",
     "output_type": "stream",
     "text": [
      "64\n"
     ]
    }
   ],
   "source": [
    "# Exiting a function\n",
    "# The first two calls to f() don’t cause any output, because a return statement is executed and the function exits prematurely, before the print() statement on line 6 is reached.\n",
    "# This type of paradigm can be used for error checking\n",
    "def f(x):\n",
    "    if x < 0:\n",
    "        return\n",
    "    if x > 100:\n",
    "        return\n",
    "    print(x)\n",
    "\n",
    "f(-3)\n",
    "f(64)\n",
    "f(105)"
   ]
  },
  {
   "cell_type": "code",
   "execution_count": 18,
   "metadata": {},
   "outputs": [
    {
     "data": {
      "text/plain": [
       "'Fuu Manchu'"
      ]
     },
     "execution_count": 18,
     "metadata": {},
     "output_type": "execute_result"
    }
   ],
   "source": [
    "# Return data to the caller\n",
    "# A function can return any type of object. In Python, that means pretty much anything whatsoever. \n",
    "# If a return statement inside a Python function is followed by an expression, then in the calling environment, the function call evaluates to the value of that expression\n",
    "\n",
    "def f():\n",
    "    return (\"Fuu Manchu\")\n",
    "\n",
    "s = f()\n",
    "s"
   ]
  },
  {
   "cell_type": "code",
   "execution_count": 20,
   "metadata": {},
   "outputs": [
    {
     "data": {
      "text/plain": [
       "1"
      ]
     },
     "execution_count": 20,
     "metadata": {},
     "output_type": "execute_result"
    }
   ],
   "source": [
    "# For example, in this code, f() returns a dictionary. In the calling environment then, the expression f() represents a dictionary, and f()['baz'] is a valid key reference into that dictionary\n",
    "def f():\n",
    "    return dict(foo=1, bar=2, baz=3)\n",
    "\n",
    "f()\n",
    "f()[\"foo\"]"
   ]
  },
  {
   "cell_type": "code",
   "execution_count": 22,
   "metadata": {},
   "outputs": [
    {
     "data": {
      "text/plain": [
       "'uu Ma'"
      ]
     },
     "execution_count": 22,
     "metadata": {},
     "output_type": "execute_result"
    }
   ],
   "source": [
    "# In the next example, f() returns a string that you can slice like any other string:\n",
    "def f():\n",
    "    return \"Fuu Manchu\"\n",
    "\n",
    "f()[1:6]"
   ]
  },
  {
   "cell_type": "code",
   "execution_count": 23,
   "metadata": {},
   "outputs": [
    {
     "data": {
      "text/plain": [
       "['qux', 'baz', 'bar', 'foo']"
      ]
     },
     "execution_count": 23,
     "metadata": {},
     "output_type": "execute_result"
    }
   ],
   "source": [
    "# Here, f() returns a list that can be indexed or sliced:\n",
    "def f():\n",
    "    return ['foo', 'bar', 'baz', 'qux']\n",
    "\n",
    "f()\n",
    "\n",
    "f()[2]\n",
    "\n",
    "f()[::-1]"
   ]
  },
  {
   "cell_type": "code",
   "execution_count": 30,
   "metadata": {},
   "outputs": [
    {
     "name": "stdout",
     "output_type": "stream",
     "text": [
      "<class 'tuple'>\n",
      "foo\n"
     ]
    }
   ],
   "source": [
    "# If multiple comma-separated expressions are specified in a return statement, then they’re packed and returned as a tuple:\n",
    "\n",
    "def f():\n",
    "    return 'foo', 'bar', 'baz', 'qux'\n",
    "\n",
    "t = f()\n",
    "print (type(t))\n",
    "\n",
    "# Using the \"unpack method\" to assign the function values to variables, not sure how to use this in action\n",
    "a, b, c, d = f()\n",
    "print(a)"
   ]
  },
  {
   "cell_type": "code",
   "execution_count": 31,
   "metadata": {},
   "outputs": [
    {
     "name": "stdout",
     "output_type": "stream",
     "text": [
      "no\n"
     ]
    }
   ],
   "source": [
    "# Since functions that exit through a bare return statement or fall off the end return None, a call to such a function can be used in a Boolean context:\n",
    "# When no return value is given, a Python function returns the special Python value None:\n",
    "def f():\n",
    "    return\n",
    "\n",
    "def g():\n",
    "    pass\n",
    "\n",
    "if f() or g():\n",
    "    print('yes')\n",
    "else:\n",
    "    print('no')"
   ]
  },
  {
   "cell_type": "code",
   "execution_count": 34,
   "metadata": {},
   "outputs": [
    {
     "data": {
      "text/plain": [
       "20"
      ]
     },
     "execution_count": 34,
     "metadata": {},
     "output_type": "execute_result"
    }
   ],
   "source": [
    "def double(x):\n",
    "    y = x*2\n",
    "    return y\n",
    "\n",
    "double(10)"
   ]
  },
  {
   "cell_type": "code",
   "execution_count": null,
   "metadata": {},
   "outputs": [],
   "source": [
    "# Side effects aren’t necessarily consummate evil, and they have their place, but because virtually anything can be returned from a function, the same thing can usually be accomplished through return values as well.\n",
    "\n",
    "def double_list(x):\n",
    "    r = []\n",
    "    for i in x:\n",
    "            r.append(i * 2)\n",
    "    return r\n",
    "\n",
    "\n",
    "a = [1, 2, 3, 4, 5]\n",
    "a = double_list(a)\n",
    "a   \n"
   ]
  },
  {
   "cell_type": "markdown",
   "metadata": {},
   "source": [
    "## Variable-Length Argument Lists\n",
    "- In some cases, when you’re defining a function, you may not know beforehand how many arguments you’ll want it to take."
   ]
  },
  {
   "cell_type": "code",
   "execution_count": null,
   "metadata": {},
   "outputs": [],
   "source": [
    "# This limits the amount of arguments to 3\n",
    "def avg(a, b, c):\n",
    "    return (a + b + c) / 3\n",
    "\n",
    "\n",
    "# You could do this instead\n",
    "def avg(a):\n",
    "    total = 0\n",
    "    for v in a:\n",
    "            total += v\n",
    "    return total / len(a)\n",
    " \n",
    "avg([1, 2, 3])\n",
    "\n",
    "avg([1, 2, 3, 4, 5])\n"
   ]
  },
  {
   "cell_type": "code",
   "execution_count": 46,
   "metadata": {},
   "outputs": [
    {
     "data": {
      "text/plain": [
       "8.0"
      ]
     },
     "execution_count": 46,
     "metadata": {},
     "output_type": "execute_result"
    }
   ],
   "source": [
    "# This works, but only if you group the values (a) into a list or tuple beforehand\n",
    "\n",
    "def averager(a):\n",
    "    total = 0\n",
    "    for v in a:\n",
    "        total += v\n",
    "    return total / len(a)\n",
    "\n",
    "numbers = [2,4,6,8,10,12,14] \n",
    "averager(numbers)"
   ]
  },
  {
   "cell_type": "markdown",
   "metadata": {},
   "source": [
    "## Argument Tuple Packing\n",
    "- Think of *args as a variable-length positional argument list,\n",
    "- Python provides a way to pass a function a variable number of arguments with argument tuple packing and unpacking using the asterisk (*) operator.\n",
    "- When a parameter name in a Python function definition is preceded by an asterisk (*), it indicates argument tuple packing. Any corresponding arguments in the function call are packed into a tuple that the function can refer to by the given parameter name.\n",
    "- Any name can be used, but args is so commonly chosen that it’s practically a standard.\n",
    "- args is just a placeholder for values, you can use any other function on args as well like len(args), sum(args)"
   ]
  },
  {
   "cell_type": "code",
   "execution_count": 47,
   "metadata": {},
   "outputs": [
    {
     "name": "stdout",
     "output_type": "stream",
     "text": [
      "(1, 2, 3)\n",
      "<class 'tuple'> 3\n",
      "1\n",
      "2\n",
      "3\n",
      "('foo', 'bar', 'baz', 'qux', 'quux')\n",
      "<class 'tuple'> 5\n",
      "foo\n",
      "bar\n",
      "baz\n",
      "qux\n",
      "quux\n"
     ]
    }
   ],
   "source": [
    "def f(*args):\n",
    "    print(args)\n",
    "    print(type(args), len(args))\n",
    "    for x in args:\n",
    "            print(x)\n",
    "\n",
    "f(1, 2, 3)\n",
    "\n",
    "f('foo', 'bar', 'baz', 'qux', 'quux')"
   ]
  },
  {
   "cell_type": "code",
   "execution_count": 52,
   "metadata": {},
   "outputs": [],
   "source": [
    "# Here the same averager as above but with *args as iterator\n",
    "def tester(*args):\n",
    "    total = 0\n",
    "    for i in args:\n",
    "        total += i\n",
    "    return total / len(args)\n",
    "\n",
    "# Better still, you can tidy it up even further by replacing the for loop with the built-in Python function sum(), which sums the numeric values in any iterable:\n",
    "def avg(*args):\n",
    "    return sum(args) / len(args)\n"
   ]
  },
  {
   "cell_type": "markdown",
   "metadata": {},
   "source": [
    "## Argument Tuple Unpacking\n",
    "- When an argument in a function call is preceded by an asterisk (*), it indicates that the argument is a tuple that should be unpacked and passed to the function as separate values:\n",
    "- Although this type of unpacking is called tuple unpacking, it doesn’t only work with tuples. \n",
    "- The asterisk (*) operator can be applied to any iterable in a Python function call. For example, a list or set can be unpacked as well"
   ]
  },
  {
   "cell_type": "code",
   "execution_count": null,
   "metadata": {},
   "outputs": [],
   "source": [
    "# Using the tuple unpacking\n",
    "def f(x, y, z):\n",
    "    print(f'x = {x}')\n",
    "    print(f'y = {y}')\n",
    "    print(f'z = {z}')\n",
    "\n",
    "f(1, 2, 3)\n",
    "\n",
    "# In this example, *t in the function call indicates that t is a tuple that should be unpacked. \n",
    "# The unpacked values 'foo', 'bar', and 'baz' are assigned to the parameters x, y, and z, respectively.\n",
    "t = ('foo', 'bar', 'baz')\n",
    "f(*t)"
   ]
  },
  {
   "cell_type": "code",
   "execution_count": null,
   "metadata": {},
   "outputs": [],
   "source": [
    "# With lists\n",
    "a = ['foo', 'bar', 'baz']\n",
    "type(a)\n",
    "f(*a)\n",
    "\n",
    "# With sets\n",
    "s = {1, 2, 3}\n",
    "type(s)\n",
    "f(*s)"
   ]
  },
  {
   "cell_type": "code",
   "execution_count": null,
   "metadata": {},
   "outputs": [],
   "source": [
    "# Tuple pacling and unpacking at the same time\n",
    "def f(*args):\n",
    "    print(type(args), args)\n",
    "\n",
    "a = ['foo', 'bar', 'baz', 'qux']\n",
    "f(*a)"
   ]
  },
  {
   "cell_type": "markdown",
   "metadata": {},
   "source": [
    "## Argument Dictionary Packing\n",
    "- Think of **kwargs as a variable-length keyword argument list.\n",
    "- Python has a similar operator, the double asterisk (**), which can be used with Python function parameters and arguments to specify dictionary packing and unpacking. Preceding a parameter in a Python function definition by a double asterisk (**) indicates that the corresponding arguments, which are expected to be key=value pairs, should be packed into a dictionary:\n"
   ]
  },
  {
   "cell_type": "code",
   "execution_count": null,
   "metadata": {},
   "outputs": [],
   "source": [
    "# In this case, the arguments foo=1, bar=2, and baz=3 are packed into a dictionary that the function can reference by the name kwargs\n",
    "def f(**kwargs):\n",
    "    print(kwargs)\n",
    "    print(type(kwargs))\n",
    "    for key, val in kwargs.items():\n",
    "            print(key, '->', val)\n",
    "\n",
    "f(foo=1, bar=2, baz=3)"
   ]
  },
  {
   "cell_type": "markdown",
   "metadata": {},
   "source": [
    "## Argument Dictionary Unpacking\n",
    "- Argument dictionary unpacking is analogous to argument tuple unpacking. When the double asterisk (**) precedes an argument in a Python function call, it specifies that the argument is a dictionary that should be unpacked, with the resulting items passed to the function as keyword arguments:\n"
   ]
  },
  {
   "cell_type": "code",
   "execution_count": 56,
   "metadata": {},
   "outputs": [
    {
     "name": "stdout",
     "output_type": "stream",
     "text": [
      "a = foo\n",
      "b = 25\n",
      "c = qux\n"
     ]
    }
   ],
   "source": [
    "# ???\n",
    "def f(a, b, c):\n",
    "    print(F'a = {a}')\n",
    "    print(F'b = {b}')\n",
    "    print(F'c = {c}')\n",
    "\n",
    "d = {'a': 'foo', 'b': 25, 'c': 'qux'}\n",
    "f(**d)"
   ]
  },
  {
   "cell_type": "markdown",
   "metadata": {},
   "source": [
    "## Multiple Unpackings in a Python Function Call"
   ]
  },
  {
   "cell_type": "code",
   "execution_count": null,
   "metadata": {},
   "outputs": [],
   "source": [
    "def f(*args):\n",
    "    for i in args:\n",
    "            print(i)\n",
    "\n",
    "a = [1, 2, 3]\n",
    "t = (4, 5, 6)\n",
    "s = {7, 8, 9}\n",
    "\n",
    "f(*a, *t, *s)"
   ]
  },
  {
   "cell_type": "code",
   "execution_count": null,
   "metadata": {},
   "outputs": [],
   "source": [
    "# You can specify multiple dictionary unpackings in a Python function call as well:\n",
    "def f(**kwargs):\n",
    "    for k, v in kwargs.items():\n",
    "            print(k, '->', v)\n",
    "\n",
    "d1 = {'a': 1, 'b': 2}\n",
    "d2 = {'x': 3, 'y': 4}\n",
    "\n",
    "f(**d1, **d2)"
   ]
  },
  {
   "cell_type": "markdown",
   "metadata": {},
   "source": [
    "## Keyword-Only Arguments\n",
    "- Not relevant at the moment"
   ]
  },
  {
   "cell_type": "markdown",
   "metadata": {},
   "source": [
    "## Positional-Only Arguments\n",
    "- Not relevant at the moment\n"
   ]
  },
  {
   "cell_type": "markdown",
   "metadata": {},
   "source": [
    "##############################################################################\n",
    "### End Tutorial\n",
    "##############################################################################"
   ]
  },
  {
   "cell_type": "markdown",
   "metadata": {},
   "source": [
    "##############################################################################\n",
    "# Function Examples\n",
    "##############################################################################"
   ]
  },
  {
   "cell_type": "code",
   "execution_count": null,
   "metadata": {},
   "outputs": [],
   "source": [
    "import numpy as np\n",
    "\n",
    "# Computze the ECDF\n",
    "def ecdf(data):\n",
    "    \"\"\"Compute ECDF for a one-dimensional array of measurements.\"\"\"\n",
    "    # Number of data points: n\n",
    "    n = len(data)\n",
    "    # x-data for the ECDF: x\n",
    "    x = np.sort(data)\n",
    "    # y-data for the ECDF: y\n",
    "    y = np.arange(1, n+1)/n\n",
    "    return x, y\n",
    "\n",
    "\n",
    "\n",
    "\n",
    "# perform_bernoulli_trials(n, p) -> n=number, p=probability of success\n",
    "def perform_bernoulli_trials(n, p):\n",
    "    \n",
    "    \"\"\"Perform n Bernoulli trials with success probability p\n",
    "    and return number of successes.\"\"\"\n",
    "    # Initialize number of successes: n_success\n",
    "    n_success = 0\n",
    "\n",
    "    # Perform trials\n",
    "    for i in range(n):\n",
    "        # Choose random number between zero and one: random_number\n",
    "        random_number = np.random.random()\n",
    "\n",
    "        # If less than p, it's a success  so add one to n_success\n",
    "        if random_number < p:\n",
    "            n_success += 1\n",
    "\n",
    "    return n_success\n",
    "\n",
    "\n",
    "\n",
    "# Pearson correlation coefficient\n",
    "def pearson_r(x, y):\n",
    "    \"\"\"Compute Pearson correlation coefficient between two arrays.\"\"\"\n",
    "    # Compute correlation matrix: corr_mat\n",
    "    corr_mat = np.corrcoef(x, y)\n",
    "    # Return entry [0,1]\n",
    "    return corr_mat[0,1]\n",
    "\n",
    "\n",
    "\n",
    "# Plot Confusion Matrix\n",
    "def plot_confusion_matrix(cm, classes,\n",
    "                          normalize=False,\n",
    "                          title='Confusion matrix',\n",
    "                          cmap=plt.cm.Blues):\n",
    "    \"\"\"\n",
    "    This function prints and plots the confusion matrix.\n",
    "    Normalization can be applied by setting `normalize=True`.\n",
    "    \"\"\"\n",
    "    if normalize:\n",
    "        cm = cm.astype('float') / cm.sum(axis=1)[:, np.newaxis]\n",
    "        print(\"Normalized confusion matrix\")\n",
    "    else:\n",
    "        print('Confusion matrix, without normalization')\n",
    "\n",
    "    print(cm)\n",
    "\n",
    "    plt.imshow(cm, interpolation='nearest', cmap=cmap)\n",
    "    plt.title(title)\n",
    "    plt.colorbar()\n",
    "    tick_marks = np.arange(len(classes))\n",
    "    plt.xticks(tick_marks, classes, rotation=45)\n",
    "    plt.yticks(tick_marks, classes)\n",
    "\n",
    "    fmt = '.2f' if normalize else 'd'\n",
    "    thresh = cm.max() / 2.\n",
    "    for i, j in itertools.product(range(cm.shape[0]), range(cm.shape[1])):\n",
    "        plt.text(j, i, format(cm[i, j], fmt),\n",
    "                 horizontalalignment=\"center\",\n",
    "                 color=\"white\" if cm[i, j] > thresh else \"black\")\n",
    "\n",
    "    plt.ylabel('True label')\n",
    "    plt.xlabel('Predicted label')\n",
    "    plt.tight_layout()\n",
    "\n",
    "\n",
    "\n",
    "\n",
    "# Addition Exercise\n",
    "# Define `plus()` function to accept a variable number of arguments\n",
    "def plus(*args):\n",
    "  return sum(args)\n",
    "\n",
    "# Calculate the sum\n",
    "plus(1,4,5)\n",
    "\n",
    "\n",
    "\n",
    "\n",
    "# Addition Exercise\n",
    "# Define `plus()` function to accept a variable number of arguments\n",
    "def plus(*args):\n",
    "  total = 0\n",
    "  for i in args:\n",
    "    total += i\n",
    "  return total\n",
    "\n",
    "# Calculate the sum  \n",
    "plus(20,30,40,50)\n",
    "\n",
    "\n",
    "\n",
    "# Using the * operator\n",
    "def calculate_sum(*nums):\n",
    "    sum = 0\n",
    "    for num in nums:\n",
    "        sum += num\n",
    "    return sum\n",
    "\n",
    "print(calculate_sum(10, 30))\n",
    "print(calculate_sum(1,2,3))\n",
    "\n",
    "\n",
    "\n",
    "\n",
    "# Example of kwargs\n",
    "def calculate_sum(**kwargs):\n",
    "    sum = 0\n",
    "    for key, value in kwargs.items():\n",
    "        sum += value\n",
    "    return sum\n",
    "\n",
    "print(calculate_sum(num1=1, num2=2, num3=3))\n",
    "print(calculate_sum(num1=10, num2=30))\n",
    "\n",
    "\n",
    "\n",
    "\n",
    "# imdb dta cleaning\n",
    "# https://towardsdatascience.com/apply-and-lambda-usage-in-pandas-b13a1ea037f7\n",
    "def custom_rating(genre,rating):\n",
    "    if 'Thriller' in genre:\n",
    "        return min(10,rating+1)\n",
    "    elif 'Comedy' in genre:\n",
    "        return max(0,rating-1)\n",
    "    else:\n",
    "        return rating\n",
    "        \n",
    "df['CustomRating'] = df.apply(lambda x: custom_rating(x['Genre'], x['Rating']), axis=1)\n",
    "\n",
    "\n",
    "\n",
    "# Exercises\n",
    "# https://www.w3resource.com/python-exercises/python-functions-exercises.php\n",
    "# 1. Write a Python function to find the Max of three numbers. Go to the editor\n",
    "vec = [2,4,6,8,10,22]\n",
    "def finder(*args):\n",
    "    for i in args:\n",
    "        biggest = max(i)\n",
    "        return biggest\n",
    "\n",
    "\n",
    "\n",
    "# 2. Write a Python function to sum all the numbers in a list. Go to the editor\n",
    "Sample List : (8, 2, 3, 0, 7)\n",
    "Expected Output : 20\n",
    "# Variant 1\n",
    "def summatron(*args):\n",
    "    for i in args:\n",
    "        result = sum(i)\n",
    "    return result\n",
    "#Variant 2\n",
    "def summatron2(numbers):\n",
    "    total = 0\n",
    "    for x in numbers:\n",
    "        total += x\n",
    "    return total\n",
    "\n",
    "\n",
    "\n",
    "# 3. Write a Python function to multiply all the numbers in a list. Go to the editor\n",
    "Sample List : (8, 2, 3, -1, 7)\n",
    "Expected Output : -336\n",
    "vec = [8, 2, 3, -1, 7]\n",
    "# Variant 1\n",
    "def multiplikator(nums):\n",
    "    total = 1\n",
    "    for i in nums:\n",
    "       total = total*i\n",
    "    return total\n",
    "multiplikator(vec)\n",
    "# Variant 2\n",
    "def multiply(numbers):\n",
    "    total = 1\n",
    "    for x in numbers:\n",
    "        total *= x\n",
    "    return total\n",
    "\n",
    "\n",
    "\n",
    "\n",
    "# 4. Write a Python program to reverse a string. Go to the editor\n",
    "Sample String : \"1234abcd\"\n",
    "Expected Output : \"dcba4321\"\n",
    "str1 = \"1234abcd\"\n",
    "def reversus(string):\n",
    "    empty = ''\n",
    "    index = len(string)\n",
    "    while index > 0:\n",
    "        empty += string[index-1]\n",
    "        index = index - 1\n",
    "    return empty\n",
    "reversus(str1)\n",
    "\n",
    "\n",
    "\n",
    "\n",
    "# 5. Write a Python function to calculate the factorial of a number (a non-negative integer). \n",
    "def factorial(n):\n",
    "    if n == 0:\n",
    "        return 1\n",
    "    else:\n",
    "        return n * factorial(n-1)\n",
    "n=int(input(\"Input a number to compute the factiorial : \"))\n",
    "print(factorial(100))\n",
    "\n",
    "\n",
    "\n",
    "\n",
    "# 6. Write a Python function to check whether a number is in a given range. Go to the editor\n",
    "def rangechecker(num, minimum, maximum):\n",
    "    if num > minimum and num < maximum:\n",
    "        print('In range')\n",
    "    else:\n",
    "        print('Out of range')\n",
    "\n",
    "\n",
    "\n",
    "\n",
    "#7. Write a Python function that accepts a string and calculate the number of upper case letters and lower case letters. Go to the editor\n",
    "Sample String : 'The quick Brow Fox'\n",
    "Expected Output :\n",
    "No. of Upper case characters : 3\n",
    "No. of Lower case Characters : 12\n",
    "def counter(string):\n",
    "    upper = 0\n",
    "    lower = 0\n",
    "    for i in string:\n",
    "        if i.islower():\n",
    "            lower += 1\n",
    "        elif i.isupper():\n",
    "            upper += 1\n",
    "        else:\n",
    "            pass\n",
    "    print('Upper', upper)\n",
    "    print('Lower', lower)\n",
    "\n",
    "\n",
    "\n",
    "\n",
    "#8. Write a Python function that takes a list and returns a new list with unique elements of the first list. Go to the editor\n",
    "Sample List : [1,2,3,3,3,3,4,5]\n",
    "Unique List : [1, 2, 3, 4, 5]\n",
    "# Way 1\n",
    "def uniqor(nums):\n",
    "    res = set(nums)\n",
    "    print(res)    \n",
    "# Way 2\n",
    "def unique_list(l):\n",
    "  x = []\n",
    "  for a in l:\n",
    "    if a not in x:\n",
    "      x.append(a)\n",
    "  return x\n",
    "vec = [2,2,2,4,4,6,6,6,8]\n",
    "\n",
    "\n",
    "\n",
    "\n",
    "#9. Write a Python function that takes a number as a parameter and check the number is prime or not. Go to the editor\n",
    "Note : A prime number (or a prime) is a natural number greater than 1 and that has no positive divisors other than 1 and itself.\n",
    "def test_prime(n):\n",
    "    if (n==1):\n",
    "        return False\n",
    "    elif (n==2):\n",
    "        return True;\n",
    "    else:\n",
    "        for x in range(2,n):\n",
    "            if(n % x==0):\n",
    "                return False\n",
    "        return True             \n",
    "print(test_prime(9))\n",
    "\n",
    "\n",
    "\n",
    "\n",
    "#10. Write a Python program to print the even numbers from a given list. Go to the editor\n",
    "Sample = [1, 2, 3, 4, 5, 6, 7, 8, 9]\n",
    "Expected Result : [2, 4, 6, 8]\n",
    "def eventor(num):\n",
    "    result = []\n",
    "    for i in num:\n",
    "        if i%2==0:\n",
    "            result.append(i)\n",
    "    print(result)\n",
    "\n",
    "\n",
    "\n",
    "\n",
    "#11. Write a Python function to check whether a number is perfect or not. Go to the editor\n",
    "According to Wikipedia : In number theory, a perfect number is a positive integer that is equal to the sum of its proper positive divisors, that is, the sum of its positive divisors excluding the number itself (also known as its aliquot sum). Equivalently, a perfect number is a number that is half the sum of all of its positive divisors (including itself).\n",
    "Example : The first perfect number is 6, because 1, 2, and 3 are its proper positive divisors, and 1 + 2 + 3 = 6. Equivalently, the number 6 is equal to half the sum of all its positive divisors: ( 1 + 2 + 3 + 6 ) / 2 = 6. The next perfect number is 28 = 1 + 2 + 4 + 7 + 14. This is followed by the perfect numbers 496 and 8128.\n",
    "NA\n",
    "\n",
    "\n",
    "\n",
    "#12. Write a Python function that checks whether a passed string is palindrome or not. Go to the editor\n",
    "Note: A palindrome is a word, phrase, or sequence that reads the same backward as forward, e.g., madam or nurses run.\n",
    "def palindrome(word):\n",
    "    word = word.lower()\n",
    "    reverse = ''\n",
    "    index = len(word)\n",
    "    while index > 0:\n",
    "        reverse += word[index-1]\n",
    "        index = index - 1\n",
    "    if word==reverse:\n",
    "        print('It is a palindrome')\n",
    "    else:\n",
    "        print('It aint no palindrome')\n",
    "        \n",
    "Apply it to  a list\n",
    "pallist = ['Madam', 'Nurse','Tot', 'Wicked', 'nan']\n",
    "[palindrome(item) for item in pallist]\n",
    "\n",
    "\n",
    "\n",
    "13. Write a Python function that prints out the first n rows of Pascals triangle. Go to the editor\n",
    "Note : Pascals triangle is an arithmetic and geometric figure first imagined by Blaise Pascal.\n",
    "Sample Pascals triangle :\n",
    "Pascals triangle\n",
    "Each number is the two numbers above it added together Go to the editor\n",
    "NA\n",
    "\n",
    "\n",
    "14. Write a Python function to check whether a string is a pangram or not. Go to the editor\n",
    "Note : Pangrams are words or sentences containing every letter of the alphabet at least once.\n",
    "For example : \"The quick brown fox jumps over the lazy dog\"\n",
    "\n",
    "def panagram(word):\n",
    "    alphabet = ['a','b','c','d','e','f','g','h','i','j','k','l','m','n','o','p','q','r','s','t','u','v','w','x','y','z']\n",
    "    trues = []\n",
    "    for i in alphabet:\n",
    "        prel = [char for char in word.lower()]\n",
    "        if i in prel:\n",
    "            trues.append(True)\n",
    "        else:\n",
    "            trues.append(False)\n",
    "    if all(trues)==True:\n",
    "        print('It is a panagram')\n",
    "    else:\n",
    "        print('It is no panagram')\n",
    "            \n",
    "\n",
    "\n",
    "\n",
    "15. Write a Python program that accepts a hyphen-separated sequence of words as input and prints the words in a hyphen-separated sequence after sorting them alphabetically. Go to the editor\n",
    "Sample Items : green-red-yellow-black-white\n",
    "Expected Result : black-green-red-white-yellow\n",
    "\n",
    "16. Write a Python function to create and print a list where the values are square of numbers between 1 and 30 (both included). Go to the editor\n",
    "\n",
    "17. Write a Python program to make a chain of function decorators (bold, italic, underline etc.) in Python. Go to the editor\n",
    "\n",
    "18. Write a Python program to execute a string containing Python code. Go to the editor\n",
    "\n",
    "19. Write a Python program to access a function inside a function. Go to the editor\n",
    "\n",
    "20. Write a Python program to detect the number of local variables declared in a function. Go to the editor\n",
    "\n",
    "\n",
    "\n",
    "\n",
    "\n",
    "#%%\n",
    "# Write a function to clean some text\n",
    "text = [\"This is a test!\", \"So is this.\", \"THIS TOO?\"]\n",
    "\n",
    "def cleaner(t1):\n",
    "    r1 = t1.lower()\n",
    "    r2 = r1.replace(\"!\", \"\").replace(\".\", \"\").replace(\"?\", \"\")\n",
    "    return r2\n",
    "\n",
    "list(map(cleaner, text))\n",
    "\n",
    "\n"
   ]
  },
  {
   "cell_type": "code",
   "execution_count": null,
   "metadata": {},
   "outputs": [],
   "source": []
  }
 ],
 "metadata": {
  "kernelspec": {
   "display_name": "Python 3.7.7 64-bit ('nlp': conda)",
   "metadata": {
    "interpreter": {
     "hash": "a38b35b77e6756a055eaa8a5c714418c79b2c1847796cd1ba287d8719b86b0a5"
    }
   },
   "name": "python3"
  },
  "language_info": {
   "codemirror_mode": {
    "name": "ipython",
    "version": 3
   },
   "file_extension": ".py",
   "mimetype": "text/x-python",
   "name": "python",
   "nbconvert_exporter": "python",
   "pygments_lexer": "ipython3",
   "version": "3.9.18"
  },
  "orig_nbformat": 2
 },
 "nbformat": 4,
 "nbformat_minor": 2
}
